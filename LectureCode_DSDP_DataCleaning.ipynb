{
 "cells": [
  {
   "cell_type": "markdown",
   "metadata": {},
   "source": [
    "# DSDP Lecture - Data Cleaning\n"
   ]
  },
  {
   "cell_type": "markdown",
   "metadata": {},
   "source": [
    "## Import Dependencies"
   ]
  },
  {
   "cell_type": "code",
   "execution_count": null,
   "metadata": {},
   "outputs": [],
   "source": [
    "#import modules\n",
    "import pandas as pd\n",
    "import numpy as np\n",
    "import seaborn as sns"
   ]
  },
  {
   "cell_type": "markdown",
   "metadata": {},
   "source": [
    "## Load the data"
   ]
  },
  {
   "cell_type": "code",
   "execution_count": null,
   "metadata": {},
   "outputs": [],
   "source": [
    "#Import in xlsx file (data must in same file as this notebook)\n",
    "DSDP_Clean_Data = pd.read_excel('DSDP_Cleaning_Lecture_Example.xlsx')"
   ]
  },
  {
   "cell_type": "markdown",
   "metadata": {},
   "source": [
    "## Look at the data\n",
    "\n",
    "Now that we have imported our dataset, the first thing we want to do is look at that data.\n",
    "VISUALLY LOOK AT IT!\n",
    "\n",
    "Things we are looking at...\n",
    "\n",
    " - Top 20\n",
    " - Bottom 20\n",
    " - Random 20 (inbetween)\n",
    "    \n",
    "Does anything look weird? \n",
    "\n",
    "Are we missing key values? \n",
    "\n",
    "Skipped rows?\n",
    "\n",
    "Note: Make sure you understand how software imports data (there can be nuances)"
   ]
  },
  {
   "cell_type": "code",
   "execution_count": null,
   "metadata": {
    "scrolled": true
   },
   "outputs": [],
   "source": [
    "#Look at data - visually look! \n",
    "#(may also open data frame in IDE to get a \"cleaner\" look)\n",
    "DSDP_Clean_Data"
   ]
  },
  {
   "cell_type": "markdown",
   "metadata": {},
   "source": [
    "## Look at the meta data\n",
    "\n",
    "**What are the dimensions of the dataset (rows, columns)?**\n",
    "\n",
    "- Do I have the number of variables (columns) I expect?\n",
    "- Do I have the number of observations (rows) I expect?"
   ]
  },
  {
   "cell_type": "code",
   "execution_count": null,
   "metadata": {},
   "outputs": [],
   "source": [
    "#Look at the dataset dimensions\n",
    "DSDP_Clean_Data.shape"
   ]
  },
  {
   "cell_type": "markdown",
   "metadata": {},
   "source": [
    "**Are my variables the correct type?**\n",
    "- Numerical values are integers\n",
    "- Catergorical values are category"
   ]
  },
  {
   "cell_type": "code",
   "execution_count": null,
   "metadata": {},
   "outputs": [],
   "source": [
    "#Check the variable types\n",
    "DSDP_Clean_Data.info()"
   ]
  },
  {
   "cell_type": "markdown",
   "metadata": {},
   "source": [
    "Note: It is important to understand your limitations\n",
    "\n",
    "- capacity for text\n",
    "- dataset dimensions\n",
    "- file size"
   ]
  },
  {
   "cell_type": "markdown",
   "metadata": {},
   "source": [
    "## Correct the issues\n",
    "\n",
    "**Correcting data types**\n",
    "\n",
    "If our data is not the correct type, now is the time to address this issue\n",
    "\n",
    "*Rerun the cell above to see how the data type has changed"
   ]
  },
  {
   "cell_type": "code",
   "execution_count": null,
   "metadata": {},
   "outputs": [],
   "source": [
    "#Convert categorical data to categories\n",
    "DSDP_Clean_Data['WellType'] = DSDP_Clean_Data.WellType.astype('category')\n",
    "DSDP_Clean_Data['Location'] = DSDP_Clean_Data.Location.astype('category')\n",
    "DSDP_Clean_Data['Region'] = DSDP_Clean_Data.Region.astype('category')"
   ]
  },
  {
   "cell_type": "markdown",
   "metadata": {},
   "source": [
    "**Duplicate values**\n",
    "\n",
    "Do I have duplicates in my dataset?\n",
    "\n",
    "Duplicates can be a function of:\n",
    "\n",
    "- merging\n",
    "- data entry errors"
   ]
  },
  {
   "cell_type": "code",
   "execution_count": null,
   "metadata": {},
   "outputs": [],
   "source": [
    "#Check for duplicate data\n",
    "DSDP_Clean_Data.duplicated()"
   ]
  },
  {
   "cell_type": "markdown",
   "metadata": {},
   "source": [
    "It looks like we do have a duplicate obsevation\n",
    "\n",
    "Since this is an identical match, we can just remove one of those observations.\n",
    "\n",
    "In some cases you may want to create a new data set so as not to overwrite the original."
   ]
  },
  {
   "cell_type": "code",
   "execution_count": null,
   "metadata": {},
   "outputs": [],
   "source": [
    "#Create new dataset with duplicates removed\n",
    "#Note - we don't care which one of the duplicates we drop since they are an exact copy\n",
    "DSDP_Clean_Data_2 = DSDP_Clean_Data.drop_duplicates()\n",
    "DSDP_Clean_Data_2"
   ]
  },
  {
   "cell_type": "markdown",
   "metadata": {},
   "source": [
    "## Merging data\n",
    "\n",
    "Many times, you will be given multiple dataset. In order to do most analytics, this may mean combining these datasets into one managable data set.\n",
    "\n",
    "But that can sometimes bring on problems.\n",
    "\n",
    "Let's import our new data first."
   ]
  },
  {
   "cell_type": "code",
   "execution_count": null,
   "metadata": {},
   "outputs": [],
   "source": [
    "#Suprise! You got new data. You now need to import that data too\n",
    "DSDP_Clean_Data_A = pd.read_excel('DSDP_Cleaning_Lecture_Example_NewData_A.xlsx')\n",
    "DSDP_Clean_Data_B = pd.read_excel('DSDP_Cleaning_Lecture_Example_NewData_B.xlsx')"
   ]
  },
  {
   "cell_type": "markdown",
   "metadata": {},
   "source": [
    "Let's take a quick glance at our newly imported data"
   ]
  },
  {
   "cell_type": "code",
   "execution_count": null,
   "metadata": {},
   "outputs": [],
   "source": [
    "DSDP_Clean_Data_A"
   ]
  },
  {
   "cell_type": "code",
   "execution_count": null,
   "metadata": {},
   "outputs": [],
   "source": [
    "DSDP_Clean_Data_B"
   ]
  },
  {
   "cell_type": "markdown",
   "metadata": {},
   "source": [
    "When merging datasets, there are a few considerations:\n",
    "\n",
    "- What are you data keys?\n",
    "- Does it make sense to join?\n",
    "- What is the relationship? \n",
    "    - One to many?\n",
    "    - One to one?\n",
    "\n",
    "\n",
    "Let's merge in dataset A with our data we were previously working with (DSDP_Clean_Data_2) and take a look\n",
    "\n",
    "What happened?"
   ]
  },
  {
   "cell_type": "code",
   "execution_count": null,
   "metadata": {},
   "outputs": [],
   "source": [
    "DSDP_Clean_Merge_A = pd.merge(DSDP_Clean_Data_2, DSDP_Clean_Data_A, on = \"ID\", how = \"outer\")\n",
    "DSDP_Clean_Merge_A"
   ]
  },
  {
   "cell_type": "markdown",
   "metadata": {},
   "source": [
    "Now let's merge in dataset B with our data we were previously working with (DSDP_Clean_Data_2) and take a look.\n",
    "\n",
    "What happened?"
   ]
  },
  {
   "cell_type": "code",
   "execution_count": null,
   "metadata": {},
   "outputs": [],
   "source": [
    "DSDP_Clean_Merge_B = pd.merge(DSDP_Clean_Data_2, DSDP_Clean_Data_B, on = \"ID\", how = \"outer\")\n",
    "DSDP_Clean_Merge_B"
   ]
  },
  {
   "cell_type": "markdown",
   "metadata": {},
   "source": [
    "What's the difference between the two merges? Will this be a problem later?"
   ]
  },
  {
   "cell_type": "markdown",
   "metadata": {},
   "source": [
    "## Look at the summary data\n",
    "\n",
    "First let's start with a fresh dataset that we are considering our final dataset we plan to work with<br>\n",
    "*(imagine you have done a ton of work combining various datasets to get to this \"final\" stage)*"
   ]
  },
  {
   "cell_type": "code",
   "execution_count": null,
   "metadata": {},
   "outputs": [],
   "source": [
    "DSDP_Clean_Data_FINAL = pd.read_excel(\"DSDP_Cleaning_Lecture_FINAL.xlsx\")\n",
    "DSDP_Clean_Data_FINAL"
   ]
  },
  {
   "cell_type": "markdown",
   "metadata": {},
   "source": [
    "\n",
    "We can quickly get summary statistics for all of the variables using some basic statistics, but these are dependent on variables type:\n",
    "\n",
    "\n",
    "### Numerical (Continuous) Variables Summary Statistics\n",
    "    - minimum\n",
    "    - maximum\n",
    "    - median\n",
    "    - percentiles (25th, 75th)\n",
    "    - mean\n",
    "    - standard deviation\n",
    "   "
   ]
  },
  {
   "cell_type": "code",
   "execution_count": null,
   "metadata": {},
   "outputs": [],
   "source": [
    "#For numerical (continuous) data\n",
    "DSDP_Clean_Data_FINAL.describe(include='all')"
   ]
  },
  {
   "cell_type": "markdown",
   "metadata": {},
   "source": [
    "### Categorical Variables Summary Statistics\n",
    "\n",
    "    - counts\n",
    "    - percentages\n",
    "    "
   ]
  },
  {
   "cell_type": "code",
   "execution_count": null,
   "metadata": {},
   "outputs": [],
   "source": [
    "#For categorical data\n",
    "DSDP_Clean_Data_FINAL['WellType'].value_counts()"
   ]
  },
  {
   "cell_type": "code",
   "execution_count": null,
   "metadata": {},
   "outputs": [],
   "source": [
    "DSDP_Clean_Data_FINAL['Location'].value_counts()"
   ]
  },
  {
   "cell_type": "code",
   "execution_count": null,
   "metadata": {},
   "outputs": [],
   "source": [
    "DSDP_Clean_Data_FINAL['Region'].value_counts()"
   ]
  },
  {
   "cell_type": "code",
   "execution_count": null,
   "metadata": {},
   "outputs": [],
   "source": [
    "DSDP_Clean_Data_FINAL['Cat1'].value_counts()"
   ]
  },
  {
   "cell_type": "markdown",
   "metadata": {},
   "source": [
    "### Correct Issues\n",
    "\n",
    "Let's go ahead and fix the issues we found with Cat1 and VarY"
   ]
  },
  {
   "cell_type": "code",
   "execution_count": null,
   "metadata": {},
   "outputs": [],
   "source": [
    "#Correct the lower case value in Cat1\n",
    "DSDP_Clean_Data_FINAL['Cat1'] = DSDP_Clean_Data_FINAL['Cat1'].replace(['horizontal'],'Horizontal')\n",
    "\n",
    "#Remove \".\" and set to NaN in VarY\n",
    "DSDP_Clean_Data_FINAL['VarY'] = DSDP_Clean_Data_FINAL['VarY'].replace(['.'],np.NaN)"
   ]
  },
  {
   "cell_type": "code",
   "execution_count": null,
   "metadata": {},
   "outputs": [],
   "source": [
    "DSDP_Clean_Data_FINAL"
   ]
  },
  {
   "cell_type": "markdown",
   "metadata": {},
   "source": [
    "### Missing Data\n",
    "\n",
    "    - percent missing data"
   ]
  },
  {
   "cell_type": "code",
   "execution_count": null,
   "metadata": {},
   "outputs": [],
   "source": [
    "#look at percent missing for each variable\n",
    "DSDP_Clean_Data_FINAL.isna().sum()/(len(DSDP_Clean_Data_FINAL))*100"
   ]
  },
  {
   "cell_type": "markdown",
   "metadata": {},
   "source": [
    "### Summary Visualizations\n",
    "We can also look at visual representations of the data\n",
    "\n",
    "Let's do some histogram plots to look at the distrubtion of data for continuous variables"
   ]
  },
  {
   "cell_type": "code",
   "execution_count": null,
   "metadata": {},
   "outputs": [],
   "source": [
    "#look at histograms for all continous variables\n",
    "DSDP_Clean_Data_FINAL.hist()"
   ]
  },
  {
   "cell_type": "code",
   "execution_count": null,
   "metadata": {},
   "outputs": [],
   "source": [
    "#Look at histogram for selected variable\n",
    "DSDP_Clean_Data_FINAL.hist(column='VarZ')"
   ]
  },
  {
   "cell_type": "markdown",
   "metadata": {},
   "source": [
    "### Combine variables and summarize\n",
    "\n",
    "We can also combine variables to further look for data issues\n",
    "\n",
    "\n",
    "**Scatterplots for two <span style=\"color:red\">continuous variables</span>**"
   ]
  },
  {
   "cell_type": "code",
   "execution_count": null,
   "metadata": {},
   "outputs": [],
   "source": [
    "#Create scatterplot for VarX and VarZ\n",
    "DSDP_Clean_Data_FINAL.plot.scatter(x='VarX' , y='VarZ')"
   ]
  },
  {
   "cell_type": "markdown",
   "metadata": {},
   "source": [
    "**Crosstables for two <span style=\"color:blue\">categorical variables</span>**"
   ]
  },
  {
   "cell_type": "code",
   "execution_count": null,
   "metadata": {},
   "outputs": [],
   "source": [
    "#Create a crosstable to look at WellType and Location\n",
    "pd.crosstab(DSDP_Clean_Data_FINAL['WellType'], DSDP_Clean_Data_FINAL['Location'])"
   ]
  },
  {
   "cell_type": "markdown",
   "metadata": {},
   "source": [
    "\n",
    "**Boxplots for one <span style=\"color:red\">continuous variable</span> and one <span style=\"color:blue\">categorical variable</span>**"
   ]
  },
  {
   "cell_type": "code",
   "execution_count": null,
   "metadata": {},
   "outputs": [],
   "source": [
    "#Create a crosstable to look at WellType and VarZ\n",
    "sns.boxplot(x='Cat1', y='VarX', data=DSDP_Clean_Data_FINAL)"
   ]
  },
  {
   "cell_type": "markdown",
   "metadata": {},
   "source": [
    "### Outlier Detection\n",
    "\n",
    "An outlier is a data point that is distant from other obesrvations.\n",
    "\n",
    "- more than 1.5 interquartile ranges below first or third quartile\n",
    "- more than 3 standard deviations from mean\n",
    "- just impossible!\n",
    "\n",
    "\n",
    "Why do I have outliers?\n",
    "\n",
    "- Measurement error\n",
    "- Data entry error\n",
    "- Heavy-tailed distribution\n",
    "\n",
    "\n",
    "**ALWAYS INNOCENT UNTIL PROVEN GUILTY**"
   ]
  },
  {
   "cell_type": "code",
   "execution_count": null,
   "metadata": {},
   "outputs": [],
   "source": [
    "#Look for outliers (boxplots)\n",
    "#this will result in boxplots for entire dataset\n",
    "DSDP_Clean_Data_FINAL.boxplot()"
   ]
  },
  {
   "cell_type": "code",
   "execution_count": null,
   "metadata": {},
   "outputs": [],
   "source": [
    "#look at boxplot for single variable\n",
    "DSDP_Clean_Data_FINAL.boxplot(column=['VarZ'])"
   ]
  },
  {
   "cell_type": "markdown",
   "metadata": {},
   "source": [
    "We have done a lot of work looking at our data, poking and proding for issues.\n",
    "\n",
    "Now it is time to met with our SME and share with them our compiled list of problems to determine next step forward."
   ]
  },
  {
   "cell_type": "markdown",
   "metadata": {},
   "source": []
  }
 ],
 "metadata": {
  "interpreter": {
   "hash": "9299955e962e269557484a77ff7aec68b71efc7bd1ddac788a4a08b61a8b6b29"
  },
  "kernelspec": {
   "display_name": "Python 3 (ipykernel)",
   "language": "python",
   "name": "python3"
  },
  "language_info": {
   "codemirror_mode": {
    "name": "ipython",
    "version": 3
   },
   "file_extension": ".py",
   "mimetype": "text/x-python",
   "name": "python",
   "nbconvert_exporter": "python",
   "pygments_lexer": "ipython3",
   "version": "3.9.18"
  }
 },
 "nbformat": 4,
 "nbformat_minor": 4
}
