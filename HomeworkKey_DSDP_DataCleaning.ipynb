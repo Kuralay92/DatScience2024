{
 "cells": [
  {
   "cell_type": "markdown",
   "metadata": {},
   "source": [
    "# DSDP Homework - Data Cleaning\n",
    "\n",
    "### Section 1\n",
    "\n",
    "<div class=\"alert alert-block alert-info\">\n",
    "<b>Q2.</b> What is the first thing you should do once you have imported your data?\n",
    "</div>\n",
    "\n",
    "A. Throw a party because your import code worked! <br />\n",
    "**<span style=\"color:red\">B. Visually check your data. <br />**\n",
    "C. Run a couple of the functions from a data cleaning packages to error check your data. <br />\n",
    "D. Start modeling because your cleint needs answers NOW! <br />\n",
    "\n",
    "<div class=\"alert alert-block alert-info\">\n",
    "<b>Q3.</b> When reviewing your dataset, you notice one variable is missing approximately 1% of data values. What should you do?\n",
    "</div>\n",
    "\n",
    "A. Just throw out these observations, 1% of data is not a big deal. <br />\n",
    "B. Go ahead and fill in the data fields with your \"best guess\" as to what the values should be. <br />\n",
    "**<span style=\"color:red\">C. Contact the SME and have a discussion on why the data values are missing. <br />**\n",
    "D. Stop the analysis because you cannot proceed with missing data values. <br />"
   ]
  },
  {
   "cell_type": "markdown",
   "metadata": {},
   "source": [
    "### Section 2\n",
    "\n",
    "Use the following Jupyter Notebook to help answer the assigned homework questions. Record your responses in the corresponding MSForm for this homework. \n",
    "\n",
    "It is recommended that you use the Juypter Notebook to document your responses for your own records and learning."
   ]
  },
  {
   "cell_type": "markdown",
   "metadata": {},
   "source": [
    "## Import Dependencies"
   ]
  },
  {
   "cell_type": "code",
   "execution_count": 2,
   "metadata": {},
   "outputs": [],
   "source": [
    "#import modules\n",
    "import pandas as pd\n",
    "import numpy as np\n",
    "import matplotlib.pyplot as plt"
   ]
  },
  {
   "cell_type": "markdown",
   "metadata": {},
   "source": [
    "## Load the data"
   ]
  },
  {
   "cell_type": "code",
   "execution_count": 3,
   "metadata": {},
   "outputs": [],
   "source": [
    "AirBnB = pd.read_excel('AirBnB_Austin_Nov2018.xlsx')"
   ]
  },
  {
   "cell_type": "markdown",
   "metadata": {},
   "source": [
    "## Look at the data\n",
    "\n",
    "Now that we have imported our dataset, the first thing we want to do is look at that data. VISUALLY LOOK AT IT!"
   ]
  },
  {
   "cell_type": "code",
   "execution_count": 4,
   "metadata": {},
   "outputs": [
    {
     "data": {
      "text/html": [
       "<div>\n",
       "<style scoped>\n",
       "    .dataframe tbody tr th:only-of-type {\n",
       "        vertical-align: middle;\n",
       "    }\n",
       "\n",
       "    .dataframe tbody tr th {\n",
       "        vertical-align: top;\n",
       "    }\n",
       "\n",
       "    .dataframe thead th {\n",
       "        text-align: right;\n",
       "    }\n",
       "</style>\n",
       "<table border=\"1\" class=\"dataframe\">\n",
       "  <thead>\n",
       "    <tr style=\"text-align: right;\">\n",
       "      <th></th>\n",
       "      <th>id</th>\n",
       "      <th>name</th>\n",
       "      <th>host_id</th>\n",
       "      <th>host_name</th>\n",
       "      <th>neighbourhood_group</th>\n",
       "      <th>neighbourhood</th>\n",
       "      <th>latitude</th>\n",
       "      <th>longitude</th>\n",
       "      <th>room_type</th>\n",
       "      <th>price</th>\n",
       "      <th>minimum_nights</th>\n",
       "      <th>number_of_reviews</th>\n",
       "      <th>last_review</th>\n",
       "      <th>reviews_per_month</th>\n",
       "      <th>calculated_host_listings_count</th>\n",
       "      <th>availability_365</th>\n",
       "    </tr>\n",
       "  </thead>\n",
       "  <tbody>\n",
       "    <tr>\n",
       "      <th>0</th>\n",
       "      <td>2265</td>\n",
       "      <td>Zen-East in the Heart of Austin</td>\n",
       "      <td>2466</td>\n",
       "      <td>Paddy</td>\n",
       "      <td>NaN</td>\n",
       "      <td>78702</td>\n",
       "      <td>30.277500</td>\n",
       "      <td>-97.713975</td>\n",
       "      <td>Entire home/apt</td>\n",
       "      <td>225</td>\n",
       "      <td>2</td>\n",
       "      <td>23</td>\n",
       "      <td>2018-09-16</td>\n",
       "      <td>0.20</td>\n",
       "      <td>3</td>\n",
       "      <td>52</td>\n",
       "    </tr>\n",
       "    <tr>\n",
       "      <th>1</th>\n",
       "      <td>17607193</td>\n",
       "      <td>New town home in nice neighborhood</td>\n",
       "      <td>54561793</td>\n",
       "      <td>Adam</td>\n",
       "      <td>NaN</td>\n",
       "      <td>78723</td>\n",
       "      <td>30.294810</td>\n",
       "      <td>-97.697154</td>\n",
       "      <td>Private room</td>\n",
       "      <td>10000</td>\n",
       "      <td>1</td>\n",
       "      <td>0</td>\n",
       "      <td>NaT</td>\n",
       "      <td>NaN</td>\n",
       "      <td>1</td>\n",
       "      <td>365</td>\n",
       "    </tr>\n",
       "    <tr>\n",
       "      <th>2</th>\n",
       "      <td>5456</td>\n",
       "      <td>Walk to 6th, Rainey St and Convention Ctr</td>\n",
       "      <td>8028</td>\n",
       "      <td>Sylvia</td>\n",
       "      <td>NaN</td>\n",
       "      <td>78702</td>\n",
       "      <td>30.261116</td>\n",
       "      <td>-97.734483</td>\n",
       "      <td>Entire home/apt</td>\n",
       "      <td>95</td>\n",
       "      <td>2</td>\n",
       "      <td>461</td>\n",
       "      <td>2018-10-29</td>\n",
       "      <td>3.91</td>\n",
       "      <td>1</td>\n",
       "      <td>315</td>\n",
       "    </tr>\n",
       "    <tr>\n",
       "      <th>3</th>\n",
       "      <td>925980</td>\n",
       "      <td>Luxury Hill Country Condo Awaits...</td>\n",
       "      <td>3175045</td>\n",
       "      <td>Ryan</td>\n",
       "      <td>NaN</td>\n",
       "      <td>78749</td>\n",
       "      <td>30.225298</td>\n",
       "      <td>-97.866550</td>\n",
       "      <td>Private room</td>\n",
       "      <td>7000</td>\n",
       "      <td>3</td>\n",
       "      <td>2</td>\n",
       "      <td>2016-08-30</td>\n",
       "      <td>0.03</td>\n",
       "      <td>1</td>\n",
       "      <td>0</td>\n",
       "    </tr>\n",
       "    <tr>\n",
       "      <th>4</th>\n",
       "      <td>6413</td>\n",
       "      <td>Gem of a Studio near Downtown</td>\n",
       "      <td>13879</td>\n",
       "      <td>Todd</td>\n",
       "      <td>NaN</td>\n",
       "      <td>78704</td>\n",
       "      <td>30.248291</td>\n",
       "      <td>-97.737262</td>\n",
       "      <td>Entire home/apt</td>\n",
       "      <td>99</td>\n",
       "      <td>3</td>\n",
       "      <td>79</td>\n",
       "      <td>2018-10-01</td>\n",
       "      <td>0.73</td>\n",
       "      <td>1</td>\n",
       "      <td>29</td>\n",
       "    </tr>\n",
       "    <tr>\n",
       "      <th>...</th>\n",
       "      <td>...</td>\n",
       "      <td>...</td>\n",
       "      <td>...</td>\n",
       "      <td>...</td>\n",
       "      <td>...</td>\n",
       "      <td>...</td>\n",
       "      <td>...</td>\n",
       "      <td>...</td>\n",
       "      <td>...</td>\n",
       "      <td>...</td>\n",
       "      <td>...</td>\n",
       "      <td>...</td>\n",
       "      <td>...</td>\n",
       "      <td>...</td>\n",
       "      <td>...</td>\n",
       "      <td>...</td>\n",
       "    </tr>\n",
       "    <tr>\n",
       "      <th>11914</th>\n",
       "      <td>29984833</td>\n",
       "      <td>Ideal place for SXSW in South Central Austin</td>\n",
       "      <td>38947697</td>\n",
       "      <td>Crystal</td>\n",
       "      <td>NaN</td>\n",
       "      <td>78745</td>\n",
       "      <td>30.201053</td>\n",
       "      <td>-97.783508</td>\n",
       "      <td>Entire home/apt</td>\n",
       "      <td>300</td>\n",
       "      <td>2</td>\n",
       "      <td>0</td>\n",
       "      <td>NaT</td>\n",
       "      <td>NaN</td>\n",
       "      <td>1</td>\n",
       "      <td>98</td>\n",
       "    </tr>\n",
       "    <tr>\n",
       "      <th>11915</th>\n",
       "      <td>20269052</td>\n",
       "      <td>20 ft from Restaurants/Bars. Beautifully furni...</td>\n",
       "      <td>4165731</td>\n",
       "      <td>Aj</td>\n",
       "      <td>NaN</td>\n",
       "      <td>78701</td>\n",
       "      <td>30.270367</td>\n",
       "      <td>-97.748585</td>\n",
       "      <td>Private room</td>\n",
       "      <td>0</td>\n",
       "      <td>5</td>\n",
       "      <td>0</td>\n",
       "      <td>NaT</td>\n",
       "      <td>NaN</td>\n",
       "      <td>1</td>\n",
       "      <td>0</td>\n",
       "    </tr>\n",
       "    <tr>\n",
       "      <th>11916</th>\n",
       "      <td>29986459</td>\n",
       "      <td>Luxury Apartment in the heart of Austin</td>\n",
       "      <td>87773333</td>\n",
       "      <td>Rebecca</td>\n",
       "      <td>NaN</td>\n",
       "      <td>78704</td>\n",
       "      <td>30.255078</td>\n",
       "      <td>-97.746689</td>\n",
       "      <td>Entire home/apt</td>\n",
       "      <td>200</td>\n",
       "      <td>1</td>\n",
       "      <td>0</td>\n",
       "      <td>NaT</td>\n",
       "      <td>NaN</td>\n",
       "      <td>1</td>\n",
       "      <td>22</td>\n",
       "    </tr>\n",
       "    <tr>\n",
       "      <th>11917</th>\n",
       "      <td>29986749</td>\n",
       "      <td>Spacious Charmer- 5BD Home, downtown 5 min away!</td>\n",
       "      <td>222228251</td>\n",
       "      <td>Allyn</td>\n",
       "      <td>NaN</td>\n",
       "      <td>78702</td>\n",
       "      <td>30.253872</td>\n",
       "      <td>-97.731220</td>\n",
       "      <td>Entire home/apt</td>\n",
       "      <td>190</td>\n",
       "      <td>2</td>\n",
       "      <td>0</td>\n",
       "      <td>NaT</td>\n",
       "      <td>NaN</td>\n",
       "      <td>5</td>\n",
       "      <td>339</td>\n",
       "    </tr>\n",
       "    <tr>\n",
       "      <th>11918</th>\n",
       "      <td>20541331</td>\n",
       "      <td>Bouldin huge private suite and bath,  600 sq ft b</td>\n",
       "      <td>1804184</td>\n",
       "      <td>Murray</td>\n",
       "      <td>NaN</td>\n",
       "      <td>78704</td>\n",
       "      <td>30.248895</td>\n",
       "      <td>-97.755262</td>\n",
       "      <td>Private room</td>\n",
       "      <td>0</td>\n",
       "      <td>3</td>\n",
       "      <td>2</td>\n",
       "      <td>2017-12-07</td>\n",
       "      <td>0.16</td>\n",
       "      <td>5</td>\n",
       "      <td>0</td>\n",
       "    </tr>\n",
       "  </tbody>\n",
       "</table>\n",
       "<p>11919 rows × 16 columns</p>\n",
       "</div>"
      ],
      "text/plain": [
       "             id                                               name    host_id   \n",
       "0          2265                    Zen-East in the Heart of Austin       2466  \\\n",
       "1      17607193                 New town home in nice neighborhood   54561793   \n",
       "2          5456          Walk to 6th, Rainey St and Convention Ctr       8028   \n",
       "3        925980                Luxury Hill Country Condo Awaits...    3175045   \n",
       "4          6413                      Gem of a Studio near Downtown      13879   \n",
       "...         ...                                                ...        ...   \n",
       "11914  29984833       Ideal place for SXSW in South Central Austin   38947697   \n",
       "11915  20269052  20 ft from Restaurants/Bars. Beautifully furni...    4165731   \n",
       "11916  29986459            Luxury Apartment in the heart of Austin   87773333   \n",
       "11917  29986749   Spacious Charmer- 5BD Home, downtown 5 min away!  222228251   \n",
       "11918  20541331  Bouldin huge private suite and bath,  600 sq ft b    1804184   \n",
       "\n",
       "      host_name  neighbourhood_group  neighbourhood   latitude  longitude   \n",
       "0         Paddy                  NaN          78702  30.277500 -97.713975  \\\n",
       "1          Adam                  NaN          78723  30.294810 -97.697154   \n",
       "2        Sylvia                  NaN          78702  30.261116 -97.734483   \n",
       "3          Ryan                  NaN          78749  30.225298 -97.866550   \n",
       "4          Todd                  NaN          78704  30.248291 -97.737262   \n",
       "...         ...                  ...            ...        ...        ...   \n",
       "11914   Crystal                  NaN          78745  30.201053 -97.783508   \n",
       "11915        Aj                  NaN          78701  30.270367 -97.748585   \n",
       "11916   Rebecca                  NaN          78704  30.255078 -97.746689   \n",
       "11917     Allyn                  NaN          78702  30.253872 -97.731220   \n",
       "11918    Murray                  NaN          78704  30.248895 -97.755262   \n",
       "\n",
       "             room_type  price  minimum_nights  number_of_reviews last_review   \n",
       "0      Entire home/apt    225               2                 23  2018-09-16  \\\n",
       "1         Private room  10000               1                  0         NaT   \n",
       "2      Entire home/apt     95               2                461  2018-10-29   \n",
       "3         Private room   7000               3                  2  2016-08-30   \n",
       "4      Entire home/apt     99               3                 79  2018-10-01   \n",
       "...                ...    ...             ...                ...         ...   \n",
       "11914  Entire home/apt    300               2                  0         NaT   \n",
       "11915     Private room      0               5                  0         NaT   \n",
       "11916  Entire home/apt    200               1                  0         NaT   \n",
       "11917  Entire home/apt    190               2                  0         NaT   \n",
       "11918     Private room      0               3                  2  2017-12-07   \n",
       "\n",
       "       reviews_per_month  calculated_host_listings_count  availability_365  \n",
       "0                   0.20                               3                52  \n",
       "1                    NaN                               1               365  \n",
       "2                   3.91                               1               315  \n",
       "3                   0.03                               1                 0  \n",
       "4                   0.73                               1                29  \n",
       "...                  ...                             ...               ...  \n",
       "11914                NaN                               1                98  \n",
       "11915                NaN                               1                 0  \n",
       "11916                NaN                               1                22  \n",
       "11917                NaN                               5               339  \n",
       "11918               0.16                               5                 0  \n",
       "\n",
       "[11919 rows x 16 columns]"
      ]
     },
     "execution_count": 4,
     "metadata": {},
     "output_type": "execute_result"
    }
   ],
   "source": [
    "AirBnB"
   ]
  },
  {
   "cell_type": "markdown",
   "metadata": {},
   "source": [
    "<div class=\"alert alert-block alert-info\">\n",
    "<b>Q4.</b> When you looked at the dataset, did it import correctly? Do you notice anything by taking a visual inspection of the data?\n",
    "</div>"
   ]
  },
  {
   "cell_type": "markdown",
   "metadata": {},
   "source": [
    "Import looks good, one column (neighborhood group) seems to be all missing?"
   ]
  },
  {
   "cell_type": "markdown",
   "metadata": {},
   "source": [
    "## Look at the meta data\n",
    "\n",
    "**What are the dimensions of the dataset (rows, columns)?**"
   ]
  },
  {
   "cell_type": "code",
   "execution_count": 5,
   "metadata": {},
   "outputs": [
    {
     "data": {
      "text/plain": [
       "(11919, 16)"
      ]
     },
     "execution_count": 5,
     "metadata": {},
     "output_type": "execute_result"
    }
   ],
   "source": [
    "#Look at the dataset dimensions\n",
    "AirBnB.shape"
   ]
  },
  {
   "cell_type": "markdown",
   "metadata": {},
   "source": [
    "<div class=\"alert alert-block alert-info\">\n",
    "<b>Q5.</b> How many observations do you have in the dataset?\n",
    "</div>"
   ]
  },
  {
   "cell_type": "markdown",
   "metadata": {},
   "source": [
    "11919"
   ]
  },
  {
   "cell_type": "markdown",
   "metadata": {},
   "source": [
    "<div class=\"alert alert-block alert-info\">\n",
    "<b>Q6.</b> How many features are in the dataset??\n",
    "</div>"
   ]
  },
  {
   "cell_type": "markdown",
   "metadata": {},
   "source": [
    "16"
   ]
  },
  {
   "cell_type": "markdown",
   "metadata": {},
   "source": [
    "**Are my variables the correct type?**"
   ]
  },
  {
   "cell_type": "code",
   "execution_count": 6,
   "metadata": {},
   "outputs": [
    {
     "name": "stdout",
     "output_type": "stream",
     "text": [
      "<class 'pandas.core.frame.DataFrame'>\n",
      "RangeIndex: 11919 entries, 0 to 11918\n",
      "Data columns (total 16 columns):\n",
      " #   Column                          Non-Null Count  Dtype         \n",
      "---  ------                          --------------  -----         \n",
      " 0   id                              11919 non-null  int64         \n",
      " 1   name                            11919 non-null  object        \n",
      " 2   host_id                         11919 non-null  int64         \n",
      " 3   host_name                       11917 non-null  object        \n",
      " 4   neighbourhood_group             0 non-null      float64       \n",
      " 5   neighbourhood                   11919 non-null  int64         \n",
      " 6   latitude                        11919 non-null  float64       \n",
      " 7   longitude                       11919 non-null  float64       \n",
      " 8   room_type                       11919 non-null  object        \n",
      " 9   price                           11919 non-null  int64         \n",
      " 10  minimum_nights                  11919 non-null  int64         \n",
      " 11  number_of_reviews               11919 non-null  int64         \n",
      " 12  last_review                     9006 non-null   datetime64[ns]\n",
      " 13  reviews_per_month               9007 non-null   float64       \n",
      " 14  calculated_host_listings_count  11919 non-null  int64         \n",
      " 15  availability_365                11919 non-null  int64         \n",
      "dtypes: datetime64[ns](1), float64(4), int64(8), object(3)\n",
      "memory usage: 1.5+ MB\n"
     ]
    }
   ],
   "source": [
    "#Check the variable types\n",
    "AirBnB.info()"
   ]
  },
  {
   "cell_type": "markdown",
   "metadata": {},
   "source": [
    "## Correct the issues\n",
    "\n",
    "If our data is not the correct type, now is the time to address this issue\n",
    "\n",
    "**STEP 1:** *In the cell below, add in the \"VariableName\" that you need to update to a categorical variable*\n",
    "\n",
    "**STEP 2:** *Rerun the cell above to see how the data type has changed*"
   ]
  },
  {
   "cell_type": "code",
   "execution_count": null,
   "metadata": {},
   "outputs": [],
   "source": [
    "#Convert categorical data to categories\n",
    "AirBnB['room_type'] = AirBnB.room_type.astype('category')"
   ]
  },
  {
   "cell_type": "markdown",
   "metadata": {},
   "source": [
    "## Look at the summary data"
   ]
  },
  {
   "cell_type": "markdown",
   "metadata": {},
   "source": [
    "\n",
    "### Numerical (Continuous) Variables Summary Statistics"
   ]
  },
  {
   "cell_type": "code",
   "execution_count": 11,
   "metadata": {
    "scrolled": true
   },
   "outputs": [
    {
     "data": {
      "text/html": [
       "<div>\n",
       "<style scoped>\n",
       "    .dataframe tbody tr th:only-of-type {\n",
       "        vertical-align: middle;\n",
       "    }\n",
       "\n",
       "    .dataframe tbody tr th {\n",
       "        vertical-align: top;\n",
       "    }\n",
       "\n",
       "    .dataframe thead th {\n",
       "        text-align: right;\n",
       "    }\n",
       "</style>\n",
       "<table border=\"1\" class=\"dataframe\">\n",
       "  <thead>\n",
       "    <tr style=\"text-align: right;\">\n",
       "      <th></th>\n",
       "      <th>id</th>\n",
       "      <th>host_id</th>\n",
       "      <th>neighbourhood_group</th>\n",
       "      <th>latitude</th>\n",
       "      <th>longitude</th>\n",
       "      <th>price</th>\n",
       "      <th>minimum_nights</th>\n",
       "      <th>number_of_reviews</th>\n",
       "      <th>reviews_per_month</th>\n",
       "      <th>calculated_host_listings_count</th>\n",
       "      <th>availability_365</th>\n",
       "    </tr>\n",
       "  </thead>\n",
       "  <tbody>\n",
       "    <tr>\n",
       "      <th>count</th>\n",
       "      <td>1.191900e+04</td>\n",
       "      <td>1.191900e+04</td>\n",
       "      <td>0.0</td>\n",
       "      <td>11919.000000</td>\n",
       "      <td>11919.000000</td>\n",
       "      <td>11919.000000</td>\n",
       "      <td>11919.000000</td>\n",
       "      <td>11919.000000</td>\n",
       "      <td>9007.000000</td>\n",
       "      <td>11919.000000</td>\n",
       "      <td>11919.000000</td>\n",
       "    </tr>\n",
       "    <tr>\n",
       "      <th>mean</th>\n",
       "      <td>1.590015e+07</td>\n",
       "      <td>5.174801e+07</td>\n",
       "      <td>NaN</td>\n",
       "      <td>30.276429</td>\n",
       "      <td>-97.752313</td>\n",
       "      <td>280.709539</td>\n",
       "      <td>4.017451</td>\n",
       "      <td>23.221747</td>\n",
       "      <td>1.618781</td>\n",
       "      <td>5.378220</td>\n",
       "      <td>143.287608</td>\n",
       "    </tr>\n",
       "    <tr>\n",
       "      <th>std</th>\n",
       "      <td>9.022291e+06</td>\n",
       "      <td>5.785188e+07</td>\n",
       "      <td>NaN</td>\n",
       "      <td>0.056587</td>\n",
       "      <td>0.055606</td>\n",
       "      <td>582.903458</td>\n",
       "      <td>15.206826</td>\n",
       "      <td>49.374987</td>\n",
       "      <td>1.921765</td>\n",
       "      <td>13.797139</td>\n",
       "      <td>142.797495</td>\n",
       "    </tr>\n",
       "    <tr>\n",
       "      <th>min</th>\n",
       "      <td>2.265000e+03</td>\n",
       "      <td>2.300000e+01</td>\n",
       "      <td>NaN</td>\n",
       "      <td>30.098076</td>\n",
       "      <td>-98.053553</td>\n",
       "      <td>0.000000</td>\n",
       "      <td>1.000000</td>\n",
       "      <td>0.000000</td>\n",
       "      <td>0.010000</td>\n",
       "      <td>1.000000</td>\n",
       "      <td>0.000000</td>\n",
       "    </tr>\n",
       "    <tr>\n",
       "      <th>25%</th>\n",
       "      <td>7.901083e+06</td>\n",
       "      <td>6.334756e+06</td>\n",
       "      <td>NaN</td>\n",
       "      <td>30.243714</td>\n",
       "      <td>-97.770316</td>\n",
       "      <td>80.000000</td>\n",
       "      <td>1.000000</td>\n",
       "      <td>1.000000</td>\n",
       "      <td>0.240000</td>\n",
       "      <td>1.000000</td>\n",
       "      <td>0.000000</td>\n",
       "    </tr>\n",
       "    <tr>\n",
       "      <th>50%</th>\n",
       "      <td>1.744586e+07</td>\n",
       "      <td>2.712328e+07</td>\n",
       "      <td>NaN</td>\n",
       "      <td>30.265780</td>\n",
       "      <td>-97.745042</td>\n",
       "      <td>146.000000</td>\n",
       "      <td>2.000000</td>\n",
       "      <td>4.000000</td>\n",
       "      <td>0.890000</td>\n",
       "      <td>1.000000</td>\n",
       "      <td>89.000000</td>\n",
       "    </tr>\n",
       "    <tr>\n",
       "      <th>75%</th>\n",
       "      <td>2.338494e+07</td>\n",
       "      <td>8.107906e+07</td>\n",
       "      <td>NaN</td>\n",
       "      <td>30.298276</td>\n",
       "      <td>-97.721685</td>\n",
       "      <td>289.000000</td>\n",
       "      <td>2.000000</td>\n",
       "      <td>22.000000</td>\n",
       "      <td>2.370000</td>\n",
       "      <td>2.000000</td>\n",
       "      <td>313.000000</td>\n",
       "    </tr>\n",
       "    <tr>\n",
       "      <th>max</th>\n",
       "      <td>2.998715e+07</td>\n",
       "      <td>2.253067e+08</td>\n",
       "      <td>NaN</td>\n",
       "      <td>30.512285</td>\n",
       "      <td>-97.560622</td>\n",
       "      <td>24999.000000</td>\n",
       "      <td>500.000000</td>\n",
       "      <td>705.000000</td>\n",
       "      <td>18.130000</td>\n",
       "      <td>79.000000</td>\n",
       "      <td>369.000000</td>\n",
       "    </tr>\n",
       "  </tbody>\n",
       "</table>\n",
       "</div>"
      ],
      "text/plain": [
       "                 id       host_id  neighbourhood_group      latitude   \n",
       "count  1.191900e+04  1.191900e+04                  0.0  11919.000000  \\\n",
       "mean   1.590015e+07  5.174801e+07                  NaN     30.276429   \n",
       "std    9.022291e+06  5.785188e+07                  NaN      0.056587   \n",
       "min    2.265000e+03  2.300000e+01                  NaN     30.098076   \n",
       "25%    7.901083e+06  6.334756e+06                  NaN     30.243714   \n",
       "50%    1.744586e+07  2.712328e+07                  NaN     30.265780   \n",
       "75%    2.338494e+07  8.107906e+07                  NaN     30.298276   \n",
       "max    2.998715e+07  2.253067e+08                  NaN     30.512285   \n",
       "\n",
       "          longitude         price  minimum_nights  number_of_reviews   \n",
       "count  11919.000000  11919.000000    11919.000000       11919.000000  \\\n",
       "mean     -97.752313    280.709539        4.017451          23.221747   \n",
       "std        0.055606    582.903458       15.206826          49.374987   \n",
       "min      -98.053553      0.000000        1.000000           0.000000   \n",
       "25%      -97.770316     80.000000        1.000000           1.000000   \n",
       "50%      -97.745042    146.000000        2.000000           4.000000   \n",
       "75%      -97.721685    289.000000        2.000000          22.000000   \n",
       "max      -97.560622  24999.000000      500.000000         705.000000   \n",
       "\n",
       "       reviews_per_month  calculated_host_listings_count  availability_365  \n",
       "count        9007.000000                    11919.000000      11919.000000  \n",
       "mean            1.618781                        5.378220        143.287608  \n",
       "std             1.921765                       13.797139        142.797495  \n",
       "min             0.010000                        1.000000          0.000000  \n",
       "25%             0.240000                        1.000000          0.000000  \n",
       "50%             0.890000                        1.000000         89.000000  \n",
       "75%             2.370000                        2.000000        313.000000  \n",
       "max            18.130000                       79.000000        369.000000  "
      ]
     },
     "execution_count": 11,
     "metadata": {},
     "output_type": "execute_result"
    }
   ],
   "source": [
    "#Check each variable for errors and outliers\n",
    "AirBnB.describe(include=[np.number])"
   ]
  },
  {
   "cell_type": "code",
   "execution_count": 19,
   "metadata": {},
   "outputs": [
    {
     "name": "stdout",
     "output_type": "stream",
     "text": [
      "2011-03-17 00:00:00\n",
      "2019-10-28 00:00:00\n"
     ]
    }
   ],
   "source": [
    "#Pull first/last dates\n",
    "print (AirBnB.last_review.min())\n",
    "print (AirBnB.last_review.max())"
   ]
  },
  {
   "cell_type": "markdown",
   "metadata": {},
   "source": [
    "### Categorical Variables Summary Statistics"
   ]
  },
  {
   "cell_type": "code",
   "execution_count": 8,
   "metadata": {
    "scrolled": true
   },
   "outputs": [
    {
     "data": {
      "text/plain": [
       "Entire home/apt    8534\n",
       "Private room       3148\n",
       "Shared room         237\n",
       "Name: room_type, dtype: int64"
      ]
     },
     "execution_count": 8,
     "metadata": {},
     "output_type": "execute_result"
    }
   ],
   "source": [
    "#For categorical data\n",
    "#AirBnB['VariableName'].value_counts()\n",
    "AirBnB['room_type'].value_counts()"
   ]
  },
  {
   "cell_type": "markdown",
   "metadata": {},
   "source": [
    "### Missing Data"
   ]
  },
  {
   "cell_type": "code",
   "execution_count": 9,
   "metadata": {},
   "outputs": [
    {
     "data": {
      "text/plain": [
       "id                                  0.00000\n",
       "name                                0.00000\n",
       "host_id                             0.00000\n",
       "host_name                           0.01678\n",
       "neighbourhood_group               100.00000\n",
       "neighbourhood                       0.00000\n",
       "latitude                            0.00000\n",
       "longitude                           0.00000\n",
       "room_type                           0.00000\n",
       "price                               0.00000\n",
       "minimum_nights                      0.00000\n",
       "number_of_reviews                   0.00000\n",
       "last_review                        24.43997\n",
       "reviews_per_month                  24.43158\n",
       "calculated_host_listings_count      0.00000\n",
       "availability_365                    0.00000\n",
       "dtype: float64"
      ]
     },
     "execution_count": 9,
     "metadata": {},
     "output_type": "execute_result"
    }
   ],
   "source": [
    "#look at percent missing for each variable\n",
    "AirBnB.isna().sum()/(len(AirBnB))*100\n",
    "              "
   ]
  },
  {
   "cell_type": "markdown",
   "metadata": {},
   "source": [
    "### Summary Visualizations"
   ]
  },
  {
   "cell_type": "code",
   "execution_count": 10,
   "metadata": {},
   "outputs": [
    {
     "data": {
      "text/plain": [
       "array([[<AxesSubplot: title={'center': 'availability_365'}>]],\n",
       "      dtype=object)"
      ]
     },
     "execution_count": 10,
     "metadata": {},
     "output_type": "execute_result"
    },
    {
     "data": {
      "image/png": "[encoded data removed]",
      "text/plain": [
       "<Figure size 640x480 with 12 Axes>"
      ]
     },
     "metadata": {},
     "output_type": "display_data"
    },
    {
     "data": {
      "image/png": "[encoded data removed]",
      "text/plain": [
       "<Figure size 640x480 with 1 Axes>"
      ]
     },
     "metadata": {},
     "output_type": "display_data"
    },
    {
     "data": {
      "image/png": "[encoded data removed]",
      "text/plain": [
       "<Figure size 640x480 with 1 Axes>"
      ]
     },
     "metadata": {},
     "output_type": "display_data"
    },
    {
     "data": {
      "image/png": "[encoded data removed]",
      "text/plain": [
       "<Figure size 640x480 with 1 Axes>"
      ]
     },
     "metadata": {},
     "output_type": "display_data"
    }
   ],
   "source": [
    "#look at histograms for all continous variables\n",
    "AirBnB.hist()\n",
    "AirBnB.hist('minimum_nights', bins=100)\n",
    "AirBnB.hist('price', bins=100)\n",
    "AirBnB.hist('availability_365', bins=100)"
   ]
  },
  {
   "cell_type": "markdown",
   "metadata": {},
   "source": [
    "<div class=\"alert alert-block alert-info\">\n",
    "<b>Q7.</b> What errors (if any) did you discover in the AirBnB dataset when reviewing each variable separately (looking at the summary statistics for continuous and categorical variables, missing data and the visualizations)? \n",
    "</div>"
   ]
  },
  {
   "cell_type": "markdown",
   "metadata": {},
   "source": [
    "Potential errors that could be uncovered include:\n",
    "\n",
    "1.The max value of “minimum_nights” is 500. This seems to be an extreme value. \n",
    "\n",
    "2.The min value of “price” is 0 - this seems to be weird as rentals usually are not free.\n",
    "\n",
    "3.The max value of “price” is 24,999. This seems to be an extreme value. \n",
    "\n",
    "4.The max value of “availability_365” exceeds 365.\n",
    "\n",
    "5.There are “last_review” dates that are in the future (October 2019)\n",
    "\n",
    "6.“Neighborhood_group” is missing all data values"
   ]
  },
  {
   "cell_type": "markdown",
   "metadata": {},
   "source": [
    "### Combine variables and summarize\n",
    "\n",
    "We can also combine variables to further look for data issues\n",
    "\n",
    "\n",
    "**Scatterplots for two <span style=\"color:red\">continuous variables</span>**\n",
    "\n",
    "Test out some different combinations fo continuous variables below"
   ]
  },
  {
   "cell_type": "code",
   "execution_count": 11,
   "metadata": {},
   "outputs": [
    {
     "data": {
      "text/plain": [
       "<AxesSubplot: xlabel='calculated_host_listings_count', ylabel='price'>"
      ]
     },
     "execution_count": 11,
     "metadata": {},
     "output_type": "execute_result"
    },
    {
     "data": {
      "image/png": "[encoded data removed]",
      "text/plain": [
       "<Figure size 640x480 with 1 Axes>"
      ]
     },
     "metadata": {},
     "output_type": "display_data"
    },
    {
     "data": {
      "image/png": "[encoded data removed]",
      "text/plain": [
       "<Figure size 640x480 with 1 Axes>"
      ]
     },
     "metadata": {},
     "output_type": "display_data"
    },
    {
     "data": {
      "image/png": "[encoded data removed]",
      "text/plain": [
       "<Figure size 640x480 with 1 Axes>"
      ]
     },
     "metadata": {},
     "output_type": "display_data"
    }
   ],
   "source": [
    "#AirBnB.plot.scatter(x='Variable1', y='Variable2')\n",
    "AirBnB.plot.scatter(x='minimum_nights', y='availability_365')\n",
    "AirBnB.plot.scatter(x='minimum_nights', y='price')\n",
    "AirBnB.plot.scatter(x='calculated_host_listings_count', y='price')"
   ]
  },
  {
   "cell_type": "markdown",
   "metadata": {},
   "source": [
    "**Crosstables for two <span style=\"color:blue\">categorical variables</span>**\n",
    "\n",
    "Test out some different combinations fo categorical variables below"
   ]
  },
  {
   "cell_type": "code",
   "execution_count": 12,
   "metadata": {},
   "outputs": [
    {
     "data": {
      "text/html": [
       "<div>\n",
       "<style scoped>\n",
       "    .dataframe tbody tr th:only-of-type {\n",
       "        vertical-align: middle;\n",
       "    }\n",
       "\n",
       "    .dataframe tbody tr th {\n",
       "        vertical-align: top;\n",
       "    }\n",
       "\n",
       "    .dataframe thead th {\n",
       "        text-align: right;\n",
       "    }\n",
       "</style>\n",
       "<table border=\"1\" class=\"dataframe\">\n",
       "  <thead>\n",
       "    <tr style=\"text-align: right;\">\n",
       "      <th>room_type</th>\n",
       "      <th>Entire home/apt</th>\n",
       "      <th>Private room</th>\n",
       "      <th>Shared room</th>\n",
       "    </tr>\n",
       "    <tr>\n",
       "      <th>neighbourhood</th>\n",
       "      <th></th>\n",
       "      <th></th>\n",
       "      <th></th>\n",
       "    </tr>\n",
       "  </thead>\n",
       "  <tbody>\n",
       "    <tr>\n",
       "      <th>78701</th>\n",
       "      <td>528</td>\n",
       "      <td>63</td>\n",
       "      <td>29</td>\n",
       "    </tr>\n",
       "    <tr>\n",
       "      <th>78702</th>\n",
       "      <td>1160</td>\n",
       "      <td>364</td>\n",
       "      <td>16</td>\n",
       "    </tr>\n",
       "    <tr>\n",
       "      <th>78703</th>\n",
       "      <td>597</td>\n",
       "      <td>67</td>\n",
       "      <td>5</td>\n",
       "    </tr>\n",
       "    <tr>\n",
       "      <th>78704</th>\n",
       "      <td>2090</td>\n",
       "      <td>355</td>\n",
       "      <td>22</td>\n",
       "    </tr>\n",
       "    <tr>\n",
       "      <th>78705</th>\n",
       "      <td>407</td>\n",
       "      <td>138</td>\n",
       "      <td>24</td>\n",
       "    </tr>\n",
       "    <tr>\n",
       "      <th>78712</th>\n",
       "      <td>2</td>\n",
       "      <td>1</td>\n",
       "      <td>0</td>\n",
       "    </tr>\n",
       "    <tr>\n",
       "      <th>78717</th>\n",
       "      <td>16</td>\n",
       "      <td>17</td>\n",
       "      <td>0</td>\n",
       "    </tr>\n",
       "    <tr>\n",
       "      <th>78719</th>\n",
       "      <td>5</td>\n",
       "      <td>2</td>\n",
       "      <td>0</td>\n",
       "    </tr>\n",
       "    <tr>\n",
       "      <th>78721</th>\n",
       "      <td>150</td>\n",
       "      <td>80</td>\n",
       "      <td>8</td>\n",
       "    </tr>\n",
       "    <tr>\n",
       "      <th>78722</th>\n",
       "      <td>198</td>\n",
       "      <td>51</td>\n",
       "      <td>5</td>\n",
       "    </tr>\n",
       "    <tr>\n",
       "      <th>78723</th>\n",
       "      <td>237</td>\n",
       "      <td>158</td>\n",
       "      <td>9</td>\n",
       "    </tr>\n",
       "    <tr>\n",
       "      <th>78724</th>\n",
       "      <td>53</td>\n",
       "      <td>31</td>\n",
       "      <td>0</td>\n",
       "    </tr>\n",
       "    <tr>\n",
       "      <th>78725</th>\n",
       "      <td>22</td>\n",
       "      <td>32</td>\n",
       "      <td>1</td>\n",
       "    </tr>\n",
       "    <tr>\n",
       "      <th>78726</th>\n",
       "      <td>10</td>\n",
       "      <td>17</td>\n",
       "      <td>0</td>\n",
       "    </tr>\n",
       "    <tr>\n",
       "      <th>78727</th>\n",
       "      <td>47</td>\n",
       "      <td>55</td>\n",
       "      <td>6</td>\n",
       "    </tr>\n",
       "    <tr>\n",
       "      <th>78728</th>\n",
       "      <td>28</td>\n",
       "      <td>21</td>\n",
       "      <td>2</td>\n",
       "    </tr>\n",
       "    <tr>\n",
       "      <th>78729</th>\n",
       "      <td>33</td>\n",
       "      <td>51</td>\n",
       "      <td>3</td>\n",
       "    </tr>\n",
       "    <tr>\n",
       "      <th>78730</th>\n",
       "      <td>27</td>\n",
       "      <td>6</td>\n",
       "      <td>0</td>\n",
       "    </tr>\n",
       "    <tr>\n",
       "      <th>78731</th>\n",
       "      <td>115</td>\n",
       "      <td>49</td>\n",
       "      <td>2</td>\n",
       "    </tr>\n",
       "    <tr>\n",
       "      <th>78732</th>\n",
       "      <td>42</td>\n",
       "      <td>23</td>\n",
       "      <td>0</td>\n",
       "    </tr>\n",
       "    <tr>\n",
       "      <th>78733</th>\n",
       "      <td>57</td>\n",
       "      <td>16</td>\n",
       "      <td>0</td>\n",
       "    </tr>\n",
       "    <tr>\n",
       "      <th>78734</th>\n",
       "      <td>169</td>\n",
       "      <td>24</td>\n",
       "      <td>0</td>\n",
       "    </tr>\n",
       "    <tr>\n",
       "      <th>78735</th>\n",
       "      <td>43</td>\n",
       "      <td>33</td>\n",
       "      <td>0</td>\n",
       "    </tr>\n",
       "    <tr>\n",
       "      <th>78736</th>\n",
       "      <td>38</td>\n",
       "      <td>16</td>\n",
       "      <td>0</td>\n",
       "    </tr>\n",
       "    <tr>\n",
       "      <th>78737</th>\n",
       "      <td>71</td>\n",
       "      <td>16</td>\n",
       "      <td>0</td>\n",
       "    </tr>\n",
       "    <tr>\n",
       "      <th>78738</th>\n",
       "      <td>29</td>\n",
       "      <td>13</td>\n",
       "      <td>0</td>\n",
       "    </tr>\n",
       "    <tr>\n",
       "      <th>78739</th>\n",
       "      <td>27</td>\n",
       "      <td>20</td>\n",
       "      <td>0</td>\n",
       "    </tr>\n",
       "    <tr>\n",
       "      <th>78741</th>\n",
       "      <td>471</td>\n",
       "      <td>229</td>\n",
       "      <td>19</td>\n",
       "    </tr>\n",
       "    <tr>\n",
       "      <th>78742</th>\n",
       "      <td>6</td>\n",
       "      <td>0</td>\n",
       "      <td>1</td>\n",
       "    </tr>\n",
       "    <tr>\n",
       "      <th>78744</th>\n",
       "      <td>75</td>\n",
       "      <td>126</td>\n",
       "      <td>9</td>\n",
       "    </tr>\n",
       "    <tr>\n",
       "      <th>78745</th>\n",
       "      <td>355</td>\n",
       "      <td>255</td>\n",
       "      <td>8</td>\n",
       "    </tr>\n",
       "    <tr>\n",
       "      <th>78746</th>\n",
       "      <td>245</td>\n",
       "      <td>59</td>\n",
       "      <td>3</td>\n",
       "    </tr>\n",
       "    <tr>\n",
       "      <th>78747</th>\n",
       "      <td>18</td>\n",
       "      <td>37</td>\n",
       "      <td>5</td>\n",
       "    </tr>\n",
       "    <tr>\n",
       "      <th>78748</th>\n",
       "      <td>92</td>\n",
       "      <td>107</td>\n",
       "      <td>2</td>\n",
       "    </tr>\n",
       "    <tr>\n",
       "      <th>78749</th>\n",
       "      <td>87</td>\n",
       "      <td>59</td>\n",
       "      <td>1</td>\n",
       "    </tr>\n",
       "    <tr>\n",
       "      <th>78750</th>\n",
       "      <td>27</td>\n",
       "      <td>26</td>\n",
       "      <td>1</td>\n",
       "    </tr>\n",
       "    <tr>\n",
       "      <th>78751</th>\n",
       "      <td>323</td>\n",
       "      <td>147</td>\n",
       "      <td>42</td>\n",
       "    </tr>\n",
       "    <tr>\n",
       "      <th>78752</th>\n",
       "      <td>56</td>\n",
       "      <td>41</td>\n",
       "      <td>1</td>\n",
       "    </tr>\n",
       "    <tr>\n",
       "      <th>78753</th>\n",
       "      <td>41</td>\n",
       "      <td>53</td>\n",
       "      <td>4</td>\n",
       "    </tr>\n",
       "    <tr>\n",
       "      <th>78754</th>\n",
       "      <td>32</td>\n",
       "      <td>49</td>\n",
       "      <td>1</td>\n",
       "    </tr>\n",
       "    <tr>\n",
       "      <th>78756</th>\n",
       "      <td>133</td>\n",
       "      <td>28</td>\n",
       "      <td>6</td>\n",
       "    </tr>\n",
       "    <tr>\n",
       "      <th>78757</th>\n",
       "      <td>173</td>\n",
       "      <td>67</td>\n",
       "      <td>2</td>\n",
       "    </tr>\n",
       "    <tr>\n",
       "      <th>78758</th>\n",
       "      <td>124</td>\n",
       "      <td>91</td>\n",
       "      <td>0</td>\n",
       "    </tr>\n",
       "    <tr>\n",
       "      <th>78759</th>\n",
       "      <td>75</td>\n",
       "      <td>55</td>\n",
       "      <td>0</td>\n",
       "    </tr>\n",
       "  </tbody>\n",
       "</table>\n",
       "</div>"
      ],
      "text/plain": [
       "room_type      Entire home/apt  Private room  Shared room\n",
       "neighbourhood                                            \n",
       "78701                      528            63           29\n",
       "78702                     1160           364           16\n",
       "78703                      597            67            5\n",
       "78704                     2090           355           22\n",
       "78705                      407           138           24\n",
       "78712                        2             1            0\n",
       "78717                       16            17            0\n",
       "78719                        5             2            0\n",
       "78721                      150            80            8\n",
       "78722                      198            51            5\n",
       "78723                      237           158            9\n",
       "78724                       53            31            0\n",
       "78725                       22            32            1\n",
       "78726                       10            17            0\n",
       "78727                       47            55            6\n",
       "78728                       28            21            2\n",
       "78729                       33            51            3\n",
       "78730                       27             6            0\n",
       "78731                      115            49            2\n",
       "78732                       42            23            0\n",
       "78733                       57            16            0\n",
       "78734                      169            24            0\n",
       "78735                       43            33            0\n",
       "78736                       38            16            0\n",
       "78737                       71            16            0\n",
       "78738                       29            13            0\n",
       "78739                       27            20            0\n",
       "78741                      471           229           19\n",
       "78742                        6             0            1\n",
       "78744                       75           126            9\n",
       "78745                      355           255            8\n",
       "78746                      245            59            3\n",
       "78747                       18            37            5\n",
       "78748                       92           107            2\n",
       "78749                       87            59            1\n",
       "78750                       27            26            1\n",
       "78751                      323           147           42\n",
       "78752                       56            41            1\n",
       "78753                       41            53            4\n",
       "78754                       32            49            1\n",
       "78756                      133            28            6\n",
       "78757                      173            67            2\n",
       "78758                      124            91            0\n",
       "78759                       75            55            0"
      ]
     },
     "execution_count": 12,
     "metadata": {},
     "output_type": "execute_result"
    }
   ],
   "source": [
    "#pd.crosstab(AirBnB['Variable1'], AirBnB['Variable2'])\n",
    "pd.crosstab(AirBnB['neighbourhood'], AirBnB['room_type'])"
   ]
  },
  {
   "cell_type": "markdown",
   "metadata": {},
   "source": [
    "**Boxplots for one <span style=\"color:red\">continuous variable</span> and one <span style=\"color:blue\">categorical variable</span>**\n",
    "\n",
    "Test out some different combinations fo continuous and categorical variables below"
   ]
  },
  {
   "cell_type": "code",
   "execution_count": 13,
   "metadata": {},
   "outputs": [
    {
     "data": {
      "text/plain": [
       "<AxesSubplot: title={'center': 'price'}, xlabel='room_type'>"
      ]
     },
     "execution_count": 13,
     "metadata": {},
     "output_type": "execute_result"
    },
    {
     "data": {
      "image/png": "[encoded data removed]",
      "text/plain": [
       "<Figure size 640x480 with 1 Axes>"
      ]
     },
     "metadata": {},
     "output_type": "display_data"
    }
   ],
   "source": [
    "#AirBnB.boxplot ('Variable1', by='Variable2')\n",
    "AirBnB.boxplot ('price', by='room_type')"
   ]
  },
  {
   "cell_type": "markdown",
   "metadata": {},
   "source": [
    "<div class=\"alert alert-block alert-info\">\n",
    "<b>Q8.</b> What errors (if any) did you discover in the AirBnB dataset when reviewing each variable together?\n",
    "</div>"
   ]
  },
  {
   "cell_type": "markdown",
   "metadata": {},
   "source": [
    "Potential errors that could be uncovered include:\n",
    "\n",
    "1)There is a private room for 10,000 per night and another for 7000. These seem to be extreme values considering the room type. Or maybe the room type is wrong.\n",
    "\n",
    "2)Min number of night 365 and cost of room per night is 7500 (>2.7MM for rental base price). Maybe they have the units wrong for price? Cost per year?\n",
    "\n",
    "3.There is a value for “reviews_per_month” but no date for “last_review”. Since “reviews_per_month” are contingent on having a review (and a date of that review), this is most likely an error.\n"
   ]
  }
 ],
 "metadata": {
  "interpreter": {
   "hash": "95e1ffa2fd8705d0cd2e04a960884dba29e03f9692bc42a1e766aff763f7d5d6"
  },
  "kernelspec": {
   "display_name": "Python 3 (ipykernel)",
   "language": "python",
   "name": "python3"
  },
  "language_info": {
   "codemirror_mode": {
    "name": "ipython",
    "version": 3
   },
   "file_extension": ".py",
   "mimetype": "text/x-python",
   "name": "python",
   "nbconvert_exporter": "python",
   "pygments_lexer": "ipython3",
   "version": "3.9.16"
  }
 },
 "nbformat": 4,
 "nbformat_minor": 4
}
